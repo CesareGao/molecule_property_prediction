{
 "cells": [
  {
   "cell_type": "markdown",
   "metadata": {},
   "source": [
    "## Load and convince"
   ]
  },
  {
   "cell_type": "code",
   "execution_count": 2,
   "metadata": {},
   "outputs": [],
   "source": [
    "import pandas as pd\n",
    "import numpy as np\n",
    "import matplotlib.pyplot as plt\n",
    "%matplotlib inline\n",
    "import seaborn as sns"
   ]
  },
  {
   "cell_type": "code",
   "execution_count": 3,
   "metadata": {},
   "outputs": [],
   "source": [
    "## train_df\n",
    "train_df = pd.read_csv(\"../data/train.csv\")"
   ]
  },
  {
   "cell_type": "code",
   "execution_count": 4,
   "metadata": {},
   "outputs": [
    {
     "name": "stdout",
     "output_type": "stream",
     "text": [
      "(4658147, 6)\n"
     ]
    },
    {
     "data": {
      "text/html": [
       "<div>\n",
       "<style scoped>\n",
       "    .dataframe tbody tr th:only-of-type {\n",
       "        vertical-align: middle;\n",
       "    }\n",
       "\n",
       "    .dataframe tbody tr th {\n",
       "        vertical-align: top;\n",
       "    }\n",
       "\n",
       "    .dataframe thead th {\n",
       "        text-align: right;\n",
       "    }\n",
       "</style>\n",
       "<table border=\"1\" class=\"dataframe\">\n",
       "  <thead>\n",
       "    <tr style=\"text-align: right;\">\n",
       "      <th></th>\n",
       "      <th>id</th>\n",
       "      <th>molecule_name</th>\n",
       "      <th>atom_index_0</th>\n",
       "      <th>atom_index_1</th>\n",
       "      <th>type</th>\n",
       "      <th>scalar_coupling_constant</th>\n",
       "    </tr>\n",
       "  </thead>\n",
       "  <tbody>\n",
       "    <tr>\n",
       "      <th>0</th>\n",
       "      <td>0</td>\n",
       "      <td>dsgdb9nsd_000001</td>\n",
       "      <td>1</td>\n",
       "      <td>0</td>\n",
       "      <td>1JHC</td>\n",
       "      <td>84.8076</td>\n",
       "    </tr>\n",
       "    <tr>\n",
       "      <th>1</th>\n",
       "      <td>1</td>\n",
       "      <td>dsgdb9nsd_000001</td>\n",
       "      <td>1</td>\n",
       "      <td>2</td>\n",
       "      <td>2JHH</td>\n",
       "      <td>-11.2570</td>\n",
       "    </tr>\n",
       "    <tr>\n",
       "      <th>2</th>\n",
       "      <td>2</td>\n",
       "      <td>dsgdb9nsd_000001</td>\n",
       "      <td>1</td>\n",
       "      <td>3</td>\n",
       "      <td>2JHH</td>\n",
       "      <td>-11.2548</td>\n",
       "    </tr>\n",
       "    <tr>\n",
       "      <th>3</th>\n",
       "      <td>3</td>\n",
       "      <td>dsgdb9nsd_000001</td>\n",
       "      <td>1</td>\n",
       "      <td>4</td>\n",
       "      <td>2JHH</td>\n",
       "      <td>-11.2543</td>\n",
       "    </tr>\n",
       "    <tr>\n",
       "      <th>4</th>\n",
       "      <td>4</td>\n",
       "      <td>dsgdb9nsd_000001</td>\n",
       "      <td>2</td>\n",
       "      <td>0</td>\n",
       "      <td>1JHC</td>\n",
       "      <td>84.8074</td>\n",
       "    </tr>\n",
       "  </tbody>\n",
       "</table>\n",
       "</div>"
      ],
      "text/plain": [
       "   id     molecule_name  atom_index_0  atom_index_1  type  \\\n",
       "0   0  dsgdb9nsd_000001             1             0  1JHC   \n",
       "1   1  dsgdb9nsd_000001             1             2  2JHH   \n",
       "2   2  dsgdb9nsd_000001             1             3  2JHH   \n",
       "3   3  dsgdb9nsd_000001             1             4  2JHH   \n",
       "4   4  dsgdb9nsd_000001             2             0  1JHC   \n",
       "\n",
       "   scalar_coupling_constant  \n",
       "0                   84.8076  \n",
       "1                  -11.2570  \n",
       "2                  -11.2548  \n",
       "3                  -11.2543  \n",
       "4                   84.8074  "
      ]
     },
     "execution_count": 4,
     "metadata": {},
     "output_type": "execute_result"
    }
   ],
   "source": [
    "print(train_df.shape)\n",
    "train_df.head()"
   ]
  },
  {
   "cell_type": "code",
   "execution_count": 10,
   "metadata": {},
   "outputs": [
    {
     "data": {
      "text/plain": [
       "(85003,)"
      ]
     },
     "execution_count": 10,
     "metadata": {},
     "output_type": "execute_result"
    }
   ],
   "source": [
    "## number of molecule\n",
    "train_df.molecule_name.unique().shape"
   ]
  },
  {
   "cell_type": "code",
   "execution_count": 5,
   "metadata": {},
   "outputs": [
    {
     "data": {
      "text/html": [
       "<div>\n",
       "<style scoped>\n",
       "    .dataframe tbody tr th:only-of-type {\n",
       "        vertical-align: middle;\n",
       "    }\n",
       "\n",
       "    .dataframe tbody tr th {\n",
       "        vertical-align: top;\n",
       "    }\n",
       "\n",
       "    .dataframe thead th {\n",
       "        text-align: right;\n",
       "    }\n",
       "</style>\n",
       "<table border=\"1\" class=\"dataframe\">\n",
       "  <thead>\n",
       "    <tr style=\"text-align: right;\">\n",
       "      <th></th>\n",
       "      <th>id</th>\n",
       "      <th>molecule_name</th>\n",
       "      <th>atom_index_0</th>\n",
       "      <th>atom_index_1</th>\n",
       "      <th>type</th>\n",
       "    </tr>\n",
       "  </thead>\n",
       "  <tbody>\n",
       "    <tr>\n",
       "      <th>0</th>\n",
       "      <td>4658147</td>\n",
       "      <td>dsgdb9nsd_000004</td>\n",
       "      <td>2</td>\n",
       "      <td>0</td>\n",
       "      <td>2JHC</td>\n",
       "    </tr>\n",
       "    <tr>\n",
       "      <th>1</th>\n",
       "      <td>4658148</td>\n",
       "      <td>dsgdb9nsd_000004</td>\n",
       "      <td>2</td>\n",
       "      <td>1</td>\n",
       "      <td>1JHC</td>\n",
       "    </tr>\n",
       "    <tr>\n",
       "      <th>2</th>\n",
       "      <td>4658149</td>\n",
       "      <td>dsgdb9nsd_000004</td>\n",
       "      <td>2</td>\n",
       "      <td>3</td>\n",
       "      <td>3JHH</td>\n",
       "    </tr>\n",
       "    <tr>\n",
       "      <th>3</th>\n",
       "      <td>4658150</td>\n",
       "      <td>dsgdb9nsd_000004</td>\n",
       "      <td>3</td>\n",
       "      <td>0</td>\n",
       "      <td>1JHC</td>\n",
       "    </tr>\n",
       "    <tr>\n",
       "      <th>4</th>\n",
       "      <td>4658151</td>\n",
       "      <td>dsgdb9nsd_000004</td>\n",
       "      <td>3</td>\n",
       "      <td>1</td>\n",
       "      <td>2JHC</td>\n",
       "    </tr>\n",
       "  </tbody>\n",
       "</table>\n",
       "</div>"
      ],
      "text/plain": [
       "        id     molecule_name  atom_index_0  atom_index_1  type\n",
       "0  4658147  dsgdb9nsd_000004             2             0  2JHC\n",
       "1  4658148  dsgdb9nsd_000004             2             1  1JHC\n",
       "2  4658149  dsgdb9nsd_000004             2             3  3JHH\n",
       "3  4658150  dsgdb9nsd_000004             3             0  1JHC\n",
       "4  4658151  dsgdb9nsd_000004             3             1  2JHC"
      ]
     },
     "execution_count": 5,
     "metadata": {},
     "output_type": "execute_result"
    }
   ],
   "source": [
    "## test_df \n",
    "test_df = pd.read_csv(\"../data/test.csv\")\n",
    "test_df.head()"
   ]
  },
  {
   "cell_type": "code",
   "execution_count": 11,
   "metadata": {},
   "outputs": [
    {
     "data": {
      "text/plain": [
       "(45772,)"
      ]
     },
     "execution_count": 11,
     "metadata": {},
     "output_type": "execute_result"
    }
   ],
   "source": [
    "test_df.molecule_name.unique().shape"
   ]
  },
  {
   "cell_type": "code",
   "execution_count": 12,
   "metadata": {},
   "outputs": [
    {
     "data": {
      "text/plain": [
       "array([], dtype=object)"
      ]
     },
     "execution_count": 12,
     "metadata": {},
     "output_type": "execute_result"
    }
   ],
   "source": [
    "## no old molecule in test data\n",
    "np.intersect1d(train_df.molecule_name.unique(),test_df.molecule_name.unique(),assume_unique=True)"
   ]
  },
  {
   "cell_type": "code",
   "execution_count": 13,
   "metadata": {},
   "outputs": [
    {
     "data": {
      "text/html": [
       "<div>\n",
       "<style scoped>\n",
       "    .dataframe tbody tr th:only-of-type {\n",
       "        vertical-align: middle;\n",
       "    }\n",
       "\n",
       "    .dataframe tbody tr th {\n",
       "        vertical-align: top;\n",
       "    }\n",
       "\n",
       "    .dataframe thead th {\n",
       "        text-align: right;\n",
       "    }\n",
       "</style>\n",
       "<table border=\"1\" class=\"dataframe\">\n",
       "  <thead>\n",
       "    <tr style=\"text-align: right;\">\n",
       "      <th></th>\n",
       "      <th>molecule_name</th>\n",
       "      <th>atom_index</th>\n",
       "      <th>atom</th>\n",
       "      <th>x</th>\n",
       "      <th>y</th>\n",
       "      <th>z</th>\n",
       "    </tr>\n",
       "  </thead>\n",
       "  <tbody>\n",
       "    <tr>\n",
       "      <th>0</th>\n",
       "      <td>dsgdb9nsd_000001</td>\n",
       "      <td>0</td>\n",
       "      <td>C</td>\n",
       "      <td>-0.012698</td>\n",
       "      <td>1.085804</td>\n",
       "      <td>0.008001</td>\n",
       "    </tr>\n",
       "    <tr>\n",
       "      <th>1</th>\n",
       "      <td>dsgdb9nsd_000001</td>\n",
       "      <td>1</td>\n",
       "      <td>H</td>\n",
       "      <td>0.002150</td>\n",
       "      <td>-0.006031</td>\n",
       "      <td>0.001976</td>\n",
       "    </tr>\n",
       "    <tr>\n",
       "      <th>2</th>\n",
       "      <td>dsgdb9nsd_000001</td>\n",
       "      <td>2</td>\n",
       "      <td>H</td>\n",
       "      <td>1.011731</td>\n",
       "      <td>1.463751</td>\n",
       "      <td>0.000277</td>\n",
       "    </tr>\n",
       "    <tr>\n",
       "      <th>3</th>\n",
       "      <td>dsgdb9nsd_000001</td>\n",
       "      <td>3</td>\n",
       "      <td>H</td>\n",
       "      <td>-0.540815</td>\n",
       "      <td>1.447527</td>\n",
       "      <td>-0.876644</td>\n",
       "    </tr>\n",
       "    <tr>\n",
       "      <th>4</th>\n",
       "      <td>dsgdb9nsd_000001</td>\n",
       "      <td>4</td>\n",
       "      <td>H</td>\n",
       "      <td>-0.523814</td>\n",
       "      <td>1.437933</td>\n",
       "      <td>0.906397</td>\n",
       "    </tr>\n",
       "  </tbody>\n",
       "</table>\n",
       "</div>"
      ],
      "text/plain": [
       "      molecule_name  atom_index atom         x         y         z\n",
       "0  dsgdb9nsd_000001           0    C -0.012698  1.085804  0.008001\n",
       "1  dsgdb9nsd_000001           1    H  0.002150 -0.006031  0.001976\n",
       "2  dsgdb9nsd_000001           2    H  1.011731  1.463751  0.000277\n",
       "3  dsgdb9nsd_000001           3    H -0.540815  1.447527 -0.876644\n",
       "4  dsgdb9nsd_000001           4    H -0.523814  1.437933  0.906397"
      ]
     },
     "execution_count": 13,
     "metadata": {},
     "output_type": "execute_result"
    }
   ],
   "source": [
    "## the structures\n",
    "struc = pd.read_csv(\"../data/structures.csv\")\n",
    "struc.head()"
   ]
  },
  {
   "cell_type": "code",
   "execution_count": 19,
   "metadata": {},
   "outputs": [
    {
     "data": {
      "text/plain": [
       "(45772,)"
      ]
     },
     "execution_count": 19,
     "metadata": {},
     "output_type": "execute_result"
    }
   ],
   "source": [
    "## extra structures\n",
    "np.intersect1d(struc.molecule_name.unique(),test_df.molecule_name.unique(),assume_unique=True).shape"
   ]
  },
  {
   "cell_type": "code",
   "execution_count": 18,
   "metadata": {},
   "outputs": [
    {
     "data": {
      "text/plain": [
       "(85003,)"
      ]
     },
     "execution_count": 18,
     "metadata": {},
     "output_type": "execute_result"
    }
   ],
   "source": [
    "np.intersect1d(struc.molecule_name.unique(),train_df.molecule_name.unique(),assume_unique=True).shape"
   ]
  },
  {
   "cell_type": "code",
   "execution_count": 23,
   "metadata": {
    "scrolled": true
   },
   "outputs": [
    {
     "data": {
      "text/html": [
       "<div>\n",
       "<style scoped>\n",
       "    .dataframe tbody tr th:only-of-type {\n",
       "        vertical-align: middle;\n",
       "    }\n",
       "\n",
       "    .dataframe tbody tr th {\n",
       "        vertical-align: top;\n",
       "    }\n",
       "\n",
       "    .dataframe thead th {\n",
       "        text-align: right;\n",
       "    }\n",
       "</style>\n",
       "<table border=\"1\" class=\"dataframe\">\n",
       "  <thead>\n",
       "    <tr style=\"text-align: right;\">\n",
       "      <th></th>\n",
       "      <th>id</th>\n",
       "      <th>scalar_coupling_constant</th>\n",
       "    </tr>\n",
       "  </thead>\n",
       "  <tbody>\n",
       "    <tr>\n",
       "      <th>0</th>\n",
       "      <td>4658147</td>\n",
       "      <td>0</td>\n",
       "    </tr>\n",
       "    <tr>\n",
       "      <th>1</th>\n",
       "      <td>4658148</td>\n",
       "      <td>0</td>\n",
       "    </tr>\n",
       "    <tr>\n",
       "      <th>2</th>\n",
       "      <td>4658149</td>\n",
       "      <td>0</td>\n",
       "    </tr>\n",
       "    <tr>\n",
       "      <th>3</th>\n",
       "      <td>4658150</td>\n",
       "      <td>0</td>\n",
       "    </tr>\n",
       "    <tr>\n",
       "      <th>4</th>\n",
       "      <td>4658151</td>\n",
       "      <td>0</td>\n",
       "    </tr>\n",
       "  </tbody>\n",
       "</table>\n",
       "</div>"
      ],
      "text/plain": [
       "        id  scalar_coupling_constant\n",
       "0  4658147                         0\n",
       "1  4658148                         0\n",
       "2  4658149                         0\n",
       "3  4658150                         0\n",
       "4  4658151                         0"
      ]
     },
     "execution_count": 23,
     "metadata": {},
     "output_type": "execute_result"
    }
   ],
   "source": [
    "## sample solution\n",
    "samp = pd.read_csv('../data/sample_submission.csv')\n",
    "samp.head()"
   ]
  },
  {
   "cell_type": "markdown",
   "metadata": {},
   "source": [
    "## Check features"
   ]
  },
  {
   "cell_type": "code",
   "execution_count": 26,
   "metadata": {},
   "outputs": [
    {
     "data": {
      "text/plain": [
       "3JHC    1510379\n",
       "2JHC    1140674\n",
       "1JHC     709416\n",
       "3JHH     590611\n",
       "2JHH     378036\n",
       "3JHN     166415\n",
       "2JHN     119253\n",
       "1JHN      43363\n",
       "Name: type, dtype: int64"
      ]
     },
     "execution_count": 26,
     "metadata": {},
     "output_type": "execute_result"
    }
   ],
   "source": [
    "## how many bound type it has \n",
    "train_df.type.value_counts()\n",
    "## large enough for training"
   ]
  },
  {
   "cell_type": "code",
   "execution_count": 38,
   "metadata": {},
   "outputs": [
    {
     "data": {
      "text/plain": [
       "(array([4.00000e+00, 2.00000e+00, 2.00000e+00, 1.00000e+00, 2.00000e+00,\n",
       "        1.10000e+01, 3.00000e+00, 8.00000e+00, 1.90000e+01, 4.00000e+01,\n",
       "        9.30000e+01, 2.81000e+02, 4.58000e+02, 7.42000e+02, 1.34400e+03,\n",
       "        4.18800e+03, 9.09100e+03, 1.39490e+04, 7.04600e+03, 5.17730e+04,\n",
       "        1.47391e+05, 5.15470e+04, 3.39830e+04, 2.05250e+04, 2.58040e+04,\n",
       "        4.42200e+04, 8.25330e+04, 1.18588e+05, 2.48422e+05, 3.97993e+05,\n",
       "        5.89260e+05, 5.13201e+05, 4.11023e+05, 2.82974e+05, 2.25368e+05,\n",
       "        1.83129e+05, 1.48434e+05, 9.97270e+04, 6.72030e+04, 5.21910e+04,\n",
       "        3.69770e+04, 1.10410e+04, 2.98700e+03, 2.14300e+03, 3.85200e+03,\n",
       "        3.79700e+03, 1.98900e+03, 2.95000e+02, 4.80000e+02, 5.79000e+02,\n",
       "        7.02000e+02, 8.17000e+02, 1.03000e+03, 1.35800e+03, 1.86500e+03,\n",
       "        2.34900e+03, 1.91900e+03, 2.23300e+03, 3.11100e+03, 2.84300e+03,\n",
       "        1.95000e+03, 1.55400e+03, 1.48200e+03, 1.22500e+03, 9.76000e+02,\n",
       "        8.89000e+02, 1.05800e+03, 1.09400e+03, 1.09900e+03, 1.07000e+03,\n",
       "        9.79000e+02, 9.70000e+02, 1.11200e+03, 1.20700e+03, 1.36300e+03,\n",
       "        1.76100e+03, 2.17800e+03, 2.68300e+03, 2.17400e+03, 1.72600e+03,\n",
       "        1.39600e+03, 9.03000e+02, 6.43000e+02, 6.10000e+02, 5.22000e+02,\n",
       "        3.82000e+02, 3.18000e+02, 2.07000e+02, 2.32000e+02, 4.44000e+02,\n",
       "        6.26000e+02, 1.11100e+03, 2.01500e+03, 3.63700e+03, 7.05300e+03,\n",
       "        1.28320e+04, 2.25780e+04, 3.73110e+04, 4.91350e+04, 5.59510e+04,\n",
       "        6.01040e+04, 5.18620e+04, 4.16740e+04, 3.47010e+04, 2.90450e+04,\n",
       "        2.58070e+04, 2.49090e+04, 2.03110e+04, 1.41050e+04, 1.03160e+04,\n",
       "        8.66000e+03, 7.60100e+03, 6.78300e+03, 5.67600e+03, 6.29800e+03,\n",
       "        8.07200e+03, 8.82300e+03, 8.15500e+03, 8.13800e+03, 8.66000e+03,\n",
       "        7.96400e+03, 7.28500e+03, 7.19600e+03, 7.61600e+03, 7.56900e+03,\n",
       "        6.99800e+03, 6.28900e+03, 5.98600e+03, 5.43500e+03, 5.18800e+03,\n",
       "        4.92500e+03, 4.40700e+03, 3.63200e+03, 3.71000e+03, 3.58100e+03,\n",
       "        3.76100e+03, 3.71100e+03, 3.39500e+03, 2.85900e+03, 2.56600e+03,\n",
       "        2.28500e+03, 2.12600e+03, 1.95200e+03, 1.64400e+03, 1.31600e+03,\n",
       "        1.12200e+03, 8.30000e+02, 6.01000e+02, 4.88000e+02, 3.55000e+02,\n",
       "        3.07000e+02, 2.16000e+02, 1.29000e+02, 9.60000e+01, 7.10000e+01,\n",
       "        3.60000e+01, 4.70000e+01, 2.80000e+01, 2.30000e+01, 1.60000e+01,\n",
       "        9.00000e+00, 8.00000e+00, 6.00000e+00, 3.00000e+00, 1.00000e+00,\n",
       "        0.00000e+00, 0.00000e+00, 1.00000e+00, 1.00000e+00, 0.00000e+00,\n",
       "        0.00000e+00, 0.00000e+00, 1.00000e+00, 0.00000e+00, 0.00000e+00,\n",
       "        0.00000e+00, 0.00000e+00, 0.00000e+00, 0.00000e+00, 0.00000e+00,\n",
       "        0.00000e+00, 0.00000e+00, 0.00000e+00, 0.00000e+00, 0.00000e+00,\n",
       "        0.00000e+00, 1.50000e+01, 7.60000e+01, 1.79000e+02, 3.70000e+02,\n",
       "        8.13000e+02, 1.42500e+03, 1.90100e+03, 2.02600e+03, 1.46200e+03,\n",
       "        5.28000e+02, 3.25000e+02, 1.10000e+02, 2.60000e+01, 4.00000e+00]),\n",
       " array([-3.62186000e+01, -3.50131070e+01, -3.38076140e+01, -3.26021210e+01,\n",
       "        -3.13966280e+01, -3.01911350e+01, -2.89856420e+01, -2.77801490e+01,\n",
       "        -2.65746560e+01, -2.53691630e+01, -2.41636700e+01, -2.29581770e+01,\n",
       "        -2.17526840e+01, -2.05471910e+01, -1.93416980e+01, -1.81362050e+01,\n",
       "        -1.69307120e+01, -1.57252190e+01, -1.45197260e+01, -1.33142330e+01,\n",
       "        -1.21087400e+01, -1.09032470e+01, -9.69775400e+00, -8.49226100e+00,\n",
       "        -7.28676800e+00, -6.08127500e+00, -4.87578200e+00, -3.67028900e+00,\n",
       "        -2.46479600e+00, -1.25930300e+00, -5.38100000e-02,  1.15168300e+00,\n",
       "         2.35717600e+00,  3.56266900e+00,  4.76816200e+00,  5.97365500e+00,\n",
       "         7.17914800e+00,  8.38464100e+00,  9.59013400e+00,  1.07956270e+01,\n",
       "         1.20011200e+01,  1.32066130e+01,  1.44121060e+01,  1.56175990e+01,\n",
       "         1.68230920e+01,  1.80285850e+01,  1.92340780e+01,  2.04395710e+01,\n",
       "         2.16450640e+01,  2.28505570e+01,  2.40560500e+01,  2.52615430e+01,\n",
       "         2.64670360e+01,  2.76725290e+01,  2.88780220e+01,  3.00835150e+01,\n",
       "         3.12890080e+01,  3.24945010e+01,  3.36999940e+01,  3.49054870e+01,\n",
       "         3.61109800e+01,  3.73164730e+01,  3.85219660e+01,  3.97274590e+01,\n",
       "         4.09329520e+01,  4.21384450e+01,  4.33439380e+01,  4.45494310e+01,\n",
       "         4.57549240e+01,  4.69604170e+01,  4.81659100e+01,  4.93714030e+01,\n",
       "         5.05768960e+01,  5.17823890e+01,  5.29878820e+01,  5.41933750e+01,\n",
       "         5.53988680e+01,  5.66043610e+01,  5.78098540e+01,  5.90153470e+01,\n",
       "         6.02208400e+01,  6.14263330e+01,  6.26318260e+01,  6.38373190e+01,\n",
       "         6.50428120e+01,  6.62483050e+01,  6.74537980e+01,  6.86592910e+01,\n",
       "         6.98647840e+01,  7.10702770e+01,  7.22757700e+01,  7.34812630e+01,\n",
       "         7.46867560e+01,  7.58922490e+01,  7.70977420e+01,  7.83032350e+01,\n",
       "         7.95087280e+01,  8.07142210e+01,  8.19197140e+01,  8.31252070e+01,\n",
       "         8.43307000e+01,  8.55361930e+01,  8.67416860e+01,  8.79471790e+01,\n",
       "         8.91526720e+01,  9.03581650e+01,  9.15636580e+01,  9.27691510e+01,\n",
       "         9.39746440e+01,  9.51801370e+01,  9.63856300e+01,  9.75911230e+01,\n",
       "         9.87966160e+01,  1.00002109e+02,  1.01207602e+02,  1.02413095e+02,\n",
       "         1.03618588e+02,  1.04824081e+02,  1.06029574e+02,  1.07235067e+02,\n",
       "         1.08440560e+02,  1.09646053e+02,  1.10851546e+02,  1.12057039e+02,\n",
       "         1.13262532e+02,  1.14468025e+02,  1.15673518e+02,  1.16879011e+02,\n",
       "         1.18084504e+02,  1.19289997e+02,  1.20495490e+02,  1.21700983e+02,\n",
       "         1.22906476e+02,  1.24111969e+02,  1.25317462e+02,  1.26522955e+02,\n",
       "         1.27728448e+02,  1.28933941e+02,  1.30139434e+02,  1.31344927e+02,\n",
       "         1.32550420e+02,  1.33755913e+02,  1.34961406e+02,  1.36166899e+02,\n",
       "         1.37372392e+02,  1.38577885e+02,  1.39783378e+02,  1.40988871e+02,\n",
       "         1.42194364e+02,  1.43399857e+02,  1.44605350e+02,  1.45810843e+02,\n",
       "         1.47016336e+02,  1.48221829e+02,  1.49427322e+02,  1.50632815e+02,\n",
       "         1.51838308e+02,  1.53043801e+02,  1.54249294e+02,  1.55454787e+02,\n",
       "         1.56660280e+02,  1.57865773e+02,  1.59071266e+02,  1.60276759e+02,\n",
       "         1.61482252e+02,  1.62687745e+02,  1.63893238e+02,  1.65098731e+02,\n",
       "         1.66304224e+02,  1.67509717e+02,  1.68715210e+02,  1.69920703e+02,\n",
       "         1.71126196e+02,  1.72331689e+02,  1.73537182e+02,  1.74742675e+02,\n",
       "         1.75948168e+02,  1.77153661e+02,  1.78359154e+02,  1.79564647e+02,\n",
       "         1.80770140e+02,  1.81975633e+02,  1.83181126e+02,  1.84386619e+02,\n",
       "         1.85592112e+02,  1.86797605e+02,  1.88003098e+02,  1.89208591e+02,\n",
       "         1.90414084e+02,  1.91619577e+02,  1.92825070e+02,  1.94030563e+02,\n",
       "         1.95236056e+02,  1.96441549e+02,  1.97647042e+02,  1.98852535e+02,\n",
       "         2.00058028e+02,  2.01263521e+02,  2.02469014e+02,  2.03674507e+02,\n",
       "         2.04880000e+02]),\n",
       " <a list of 200 Patch objects>)"
      ]
     },
     "execution_count": 38,
     "metadata": {},
     "output_type": "execute_result"
    },
    {
     "data": {
      "image/png": "[encoded data removed]",
      "text/plain": [
       "<Figure size 432x288 with 2 Axes>"
      ]
     },
     "metadata": {},
     "output_type": "display_data"
    }
   ],
   "source": [
    "aes, fig = plt.subplots(1,2)\n",
    "axs[1].hist(train_df.scalar_coupling_constant,bins=200)\n",
    "# majorly two cluster of coefficient"
   ]
  },
  {
   "cell_type": "code",
   "execution_count": null,
   "metadata": {},
   "outputs": [],
   "source": []
  }
 ],
 "metadata": {
  "kernelspec": {
   "display_name": "Python 3",
   "language": "python",
   "name": "python3"
  },
  "language_info": {
   "codemirror_mode": {
    "name": "ipython",
    "version": 3
   },
   "file_extension": ".py",
   "mimetype": "text/x-python",
   "name": "python",
   "nbconvert_exporter": "python",
   "pygments_lexer": "ipython3",
   "version": "3.6.7"
  }
 },
 "nbformat": 4,
 "nbformat_minor": 2
}
