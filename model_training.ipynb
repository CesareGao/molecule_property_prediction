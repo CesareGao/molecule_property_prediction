{
 "cells": [
  {
   "cell_type": "markdown",
   "metadata": {},
   "source": [
    "# Model training\n",
    "\n",
    "Data type: \n",
    "- explanatory variable: both categorical and numerical\n",
    "- response variable: numerical\n",
    "\n",
    "Possible model choice\n",
    "- xgboost\n",
    "- deep learning model(hash the categorical variables to numeric)\n",
    "- "
   ]
  },
  {
   "cell_type": "code",
   "execution_count": 1,
   "metadata": {},
   "outputs": [
    {
     "name": "stderr",
     "output_type": "stream",
     "text": [
      "Using TensorFlow backend.\n"
     ]
    }
   ],
   "source": [
    "import pandas as pd\n",
    "import numpy as np\n",
    "import keras\n",
    "from sklearn.model_selection import train_test_split\n",
    "from sklearn.preprocessing import LabelEncoder\n",
    "import matplotlib.pyplot as plt\n",
    "%matplotlib inline"
   ]
  },
  {
   "cell_type": "markdown",
   "metadata": {},
   "source": [
    "## data splitting"
   ]
  },
  {
   "cell_type": "code",
   "execution_count": 2,
   "metadata": {},
   "outputs": [],
   "source": [
    "train_df = pd.read_csv(\"../data/train_exp.csv\")"
   ]
  },
  {
   "cell_type": "code",
   "execution_count": 3,
   "metadata": {},
   "outputs": [],
   "source": [
    "X_df = train_df.drop(['id',\"scalar_coupling_constant\",\"molecule_name\",'atom_index_0','atom_index_1'],axis=1)\n",
    "y_df = train_df[\"scalar_coupling_constant\"]"
   ]
  },
  {
   "cell_type": "code",
   "execution_count": 4,
   "metadata": {},
   "outputs": [],
   "source": [
    "def label_func():\n",
    "    for i in ['type','atom_0','atom_1']:\n",
    "        lb_make = LabelEncoder()\n",
    "        X_df[i] = lb_make.fit_transform(X_df[i])\n",
    "label_func()"
   ]
  },
  {
   "cell_type": "code",
   "execution_count": 5,
   "metadata": {},
   "outputs": [
    {
     "name": "stdout",
     "output_type": "stream",
     "text": [
      "(3726517, 13)\n",
      "(931630, 13)\n"
     ]
    }
   ],
   "source": [
    "train_X, val_X, train_y, val_y = train_test_split(X_df,y_df, test_size = 0.2, random_state=1,stratify=X_df.type)\n",
    "print(train_X.shape)\n",
    "print(val_X.shape)"
   ]
  },
  {
   "cell_type": "markdown",
   "metadata": {},
   "source": [
    "## deep learning model"
   ]
  },
  {
   "cell_type": "code",
   "execution_count": 6,
   "metadata": {},
   "outputs": [],
   "source": [
    "from keras import models\n",
    "from keras import layers\n",
    "\n",
    "def build_model():\n",
    "    model = models.Sequential()\n",
    "    model.add(layers.Dense(64, activation='relu',\n",
    "                           input_shape=(train_X.shape[1],)))\n",
    "    model.add(layers.Dense(64, activation='relu'))\n",
    "    model.add(layers.Dense(96, activation='relu'))\n",
    "    model.add(layers.Dense(1))\n",
    "    model.compile(optimizer='rmsprop', loss='mse', metrics=['mae'])\n",
    "    return model"
   ]
  },
  {
   "cell_type": "code",
   "execution_count": 7,
   "metadata": {},
   "outputs": [
    {
     "name": "stderr",
     "output_type": "stream",
     "text": [
      "WARNING: Logging before flag parsing goes to stderr.\n",
      "W0722 22:44:53.421645 140734723327808 deprecation_wrapper.py:119] From /home/cesare/anaconda3/lib/python3.7/site-packages/keras/backend/tensorflow_backend.py:95: The name tf.reset_default_graph is deprecated. Please use tf.compat.v1.reset_default_graph instead.\n",
      "\n",
      "W0722 22:44:53.424045 140734723327808 deprecation_wrapper.py:119] From /home/cesare/anaconda3/lib/python3.7/site-packages/keras/backend/tensorflow_backend.py:98: The name tf.placeholder_with_default is deprecated. Please use tf.compat.v1.placeholder_with_default instead.\n",
      "\n",
      "W0722 22:44:53.492744 140734723327808 deprecation_wrapper.py:119] From /home/cesare/anaconda3/lib/python3.7/site-packages/keras/backend/tensorflow_backend.py:102: The name tf.get_default_graph is deprecated. Please use tf.compat.v1.get_default_graph instead.\n",
      "\n"
     ]
    }
   ],
   "source": [
    "from keras import backend as K\n",
    "\n",
    "# Some memory clean-up\n",
    "K.clear_session()"
   ]
  },
  {
   "cell_type": "code",
   "execution_count": 8,
   "metadata": {},
   "outputs": [
    {
     "name": "stderr",
     "output_type": "stream",
     "text": [
      "W0722 22:44:53.517158 140734723327808 deprecation_wrapper.py:119] From /home/cesare/anaconda3/lib/python3.7/site-packages/keras/backend/tensorflow_backend.py:517: The name tf.placeholder is deprecated. Please use tf.compat.v1.placeholder instead.\n",
      "\n",
      "W0722 22:44:53.524878 140734723327808 deprecation_wrapper.py:119] From /home/cesare/anaconda3/lib/python3.7/site-packages/keras/backend/tensorflow_backend.py:4138: The name tf.random_uniform is deprecated. Please use tf.random.uniform instead.\n",
      "\n",
      "W0722 22:44:53.676393 140734723327808 deprecation_wrapper.py:119] From /home/cesare/anaconda3/lib/python3.7/site-packages/keras/optimizers.py:790: The name tf.train.Optimizer is deprecated. Please use tf.compat.v1.train.Optimizer instead.\n",
      "\n"
     ]
    },
    {
     "name": "stdout",
     "output_type": "stream",
     "text": [
      "Train on 3726517 samples, validate on 931630 samples\n",
      "Epoch 1/40\n",
      "3726517/3726517 [==============================] - 53s 14us/step - loss: 65.5776 - mean_absolute_error: 4.2911 - val_loss: 49.2998 - val_mean_absolute_error: 3.9517\n",
      "Epoch 2/40\n",
      "3726517/3726517 [==============================] - 48s 13us/step - loss: 46.1767 - mean_absolute_error: 3.5867 - val_loss: 48.3604 - val_mean_absolute_error: 3.5508\n",
      "Epoch 3/40\n",
      "3726517/3726517 [==============================] - 46s 12us/step - loss: 42.5414 - mean_absolute_error: 3.4459 - val_loss: 42.2593 - val_mean_absolute_error: 3.4734\n",
      "Epoch 4/40\n",
      "3726517/3726517 [==============================] - 44s 12us/step - loss: 39.9883 - mean_absolute_error: 3.3465 - val_loss: 45.9865 - val_mean_absolute_error: 3.3850\n",
      "Epoch 5/40\n",
      "3726517/3726517 [==============================] - 48s 13us/step - loss: 38.5503 - mean_absolute_error: 3.2904 - val_loss: 39.2170 - val_mean_absolute_error: 3.5815\n",
      "Epoch 6/40\n",
      "3726517/3726517 [==============================] - 50s 13us/step - loss: 37.5386 - mean_absolute_error: 3.2520 - val_loss: 57.9288 - val_mean_absolute_error: 4.1707\n",
      "Epoch 7/40\n",
      "3726517/3726517 [==============================] - 47s 13us/step - loss: 36.6831 - mean_absolute_error: 3.2208 - val_loss: 44.8752 - val_mean_absolute_error: 3.4481\n",
      "Epoch 8/40\n",
      "3726517/3726517 [==============================] - 45s 12us/step - loss: 35.8400 - mean_absolute_error: 3.1924 - val_loss: 47.8845 - val_mean_absolute_error: 3.7806\n",
      "Epoch 9/40\n",
      "3726517/3726517 [==============================] - 48s 13us/step - loss: 35.0741 - mean_absolute_error: 3.1707 - val_loss: 39.9379 - val_mean_absolute_error: 3.4613\n",
      "Epoch 10/40\n",
      "3726517/3726517 [==============================] - 46s 12us/step - loss: 34.3850 - mean_absolute_error: 3.1497 - val_loss: 41.4203 - val_mean_absolute_error: 3.7359\n",
      "Epoch 11/40\n",
      "3726517/3726517 [==============================] - 50s 13us/step - loss: 33.6878 - mean_absolute_error: 3.1267 - val_loss: 36.9207 - val_mean_absolute_error: 3.5123\n",
      "Epoch 12/40\n",
      "3726517/3726517 [==============================] - 51s 14us/step - loss: 33.1581 - mean_absolute_error: 3.1086 - val_loss: 33.8547 - val_mean_absolute_error: 3.2335\n",
      "Epoch 13/40\n",
      "3726517/3726517 [==============================] - 53s 14us/step - loss: 32.6109 - mean_absolute_error: 3.0907 - val_loss: 32.1197 - val_mean_absolute_error: 3.0968\n",
      "Epoch 14/40\n",
      "3726517/3726517 [==============================] - 53s 14us/step - loss: 32.1621 - mean_absolute_error: 3.0761 - val_loss: 38.5551 - val_mean_absolute_error: 3.2033\n",
      "Epoch 15/40\n",
      "3726517/3726517 [==============================] - 51s 14us/step - loss: 31.7473 - mean_absolute_error: 3.0613 - val_loss: 40.0287 - val_mean_absolute_error: 3.5572\n",
      "Epoch 16/40\n",
      "3726517/3726517 [==============================] - 52s 14us/step - loss: 31.2347 - mean_absolute_error: 3.0457 - val_loss: 43.6906 - val_mean_absolute_error: 3.5652\n",
      "Epoch 17/40\n",
      "3726517/3726517 [==============================] - 51s 14us/step - loss: 30.9314 - mean_absolute_error: 3.0337 - val_loss: 33.1552 - val_mean_absolute_error: 3.2475\n",
      "Epoch 18/40\n",
      "3726517/3726517 [==============================] - 52s 14us/step - loss: 30.5163 - mean_absolute_error: 3.0198 - val_loss: 62.8034 - val_mean_absolute_error: 4.2280\n",
      "Epoch 19/40\n",
      "3726517/3726517 [==============================] - 51s 14us/step - loss: 30.2257 - mean_absolute_error: 3.0071 - val_loss: 36.2563 - val_mean_absolute_error: 3.2215\n",
      "Epoch 20/40\n",
      "3726517/3726517 [==============================] - 53s 14us/step - loss: 29.8838 - mean_absolute_error: 2.9951 - val_loss: 49.2423 - val_mean_absolute_error: 3.6555\n",
      "Epoch 21/40\n",
      "3726517/3726517 [==============================] - 48s 13us/step - loss: 29.6104 - mean_absolute_error: 2.9841 - val_loss: 28.4466 - val_mean_absolute_error: 3.1353\n",
      "Epoch 22/40\n",
      "3726517/3726517 [==============================] - 47s 13us/step - loss: 29.2819 - mean_absolute_error: 2.9722 - val_loss: 46.3936 - val_mean_absolute_error: 3.6823\n",
      "Epoch 23/40\n",
      "3726517/3726517 [==============================] - 46s 12us/step - loss: 29.0757 - mean_absolute_error: 2.9627 - val_loss: 36.1222 - val_mean_absolute_error: 3.1463\n",
      "Epoch 24/40\n",
      "3726517/3726517 [==============================] - 47s 13us/step - loss: 28.8399 - mean_absolute_error: 2.9548 - val_loss: 28.8081 - val_mean_absolute_error: 2.9642\n",
      "Epoch 25/40\n",
      "3726517/3726517 [==============================] - 46s 12us/step - loss: 28.5657 - mean_absolute_error: 2.9438 - val_loss: 31.7281 - val_mean_absolute_error: 3.1566\n",
      "Epoch 26/40\n",
      "3726517/3726517 [==============================] - 46s 12us/step - loss: 28.4327 - mean_absolute_error: 2.9381 - val_loss: 37.5624 - val_mean_absolute_error: 3.1210\n",
      "Epoch 27/40\n",
      "3726517/3726517 [==============================] - 47s 13us/step - loss: 28.2041 - mean_absolute_error: 2.9300 - val_loss: 56.4187 - val_mean_absolute_error: 3.8243\n",
      "Epoch 28/40\n",
      "3726517/3726517 [==============================] - 46s 12us/step - loss: 27.9739 - mean_absolute_error: 2.9211 - val_loss: 46.6700 - val_mean_absolute_error: 3.7308\n",
      "Epoch 29/40\n",
      "3726517/3726517 [==============================] - 46s 12us/step - loss: 27.7022 - mean_absolute_error: 2.9113 - val_loss: 35.2981 - val_mean_absolute_error: 3.1165\n",
      "Epoch 30/40\n",
      "3726517/3726517 [==============================] - 45s 12us/step - loss: 27.4917 - mean_absolute_error: 2.9031 - val_loss: 27.3611 - val_mean_absolute_error: 3.0450\n",
      "Epoch 31/40\n",
      "3726517/3726517 [==============================] - 46s 12us/step - loss: 27.2621 - mean_absolute_error: 2.8968 - val_loss: 28.1719 - val_mean_absolute_error: 2.8426\n",
      "Epoch 32/40\n",
      "3726517/3726517 [==============================] - 46s 12us/step - loss: 27.0033 - mean_absolute_error: 2.8862 - val_loss: 28.6148 - val_mean_absolute_error: 2.9500\n",
      "Epoch 33/40\n",
      "3726517/3726517 [==============================] - 45s 12us/step - loss: 26.8370 - mean_absolute_error: 2.8811 - val_loss: 54.3045 - val_mean_absolute_error: 3.7531\n",
      "Epoch 34/40\n",
      "3726517/3726517 [==============================] - 45s 12us/step - loss: 26.6655 - mean_absolute_error: 2.8760 - val_loss: 29.8464 - val_mean_absolute_error: 3.1413\n",
      "Epoch 35/40\n",
      "3726517/3726517 [==============================] - 45s 12us/step - loss: 26.5077 - mean_absolute_error: 2.8690 - val_loss: 26.6035 - val_mean_absolute_error: 3.0089\n",
      "Epoch 36/40\n",
      "3726517/3726517 [==============================] - 45s 12us/step - loss: 26.2637 - mean_absolute_error: 2.8624 - val_loss: 41.7532 - val_mean_absolute_error: 3.4838\n",
      "Epoch 37/40\n",
      "3726517/3726517 [==============================] - 45s 12us/step - loss: 26.0641 - mean_absolute_error: 2.8567 - val_loss: 26.1889 - val_mean_absolute_error: 2.8680\n",
      "Epoch 38/40\n",
      "3726517/3726517 [==============================] - 49s 13us/step - loss: 25.9365 - mean_absolute_error: 2.8492 - val_loss: 29.6975 - val_mean_absolute_error: 2.9566\n",
      "Epoch 39/40\n",
      "3726517/3726517 [==============================] - 47s 13us/step - loss: 25.7963 - mean_absolute_error: 2.8445 - val_loss: 23.5205 - val_mean_absolute_error: 2.8449\n",
      "Epoch 40/40\n",
      "3726517/3726517 [==============================] - 44s 12us/step - loss: 25.6478 - mean_absolute_error: 2.8381 - val_loss: 26.7988 - val_mean_absolute_error: 2.9460\n"
     ]
    }
   ],
   "source": [
    "## best epochs = 80 by now\n",
    "num_epochs = 40\n",
    "model = build_model()\n",
    "history = model.fit(train_X, train_y,\n",
    "                    validation_data=(val_X, val_y),\n",
    "                    epochs=num_epochs, batch_size=500, verbose=1)\n",
    "mae_history = history.history['val_mean_absolute_error']"
   ]
  },
  {
   "cell_type": "code",
   "execution_count": 9,
   "metadata": {},
   "outputs": [
    {
     "data": {
      "image/png": "[encoded data removed]",
      "text/plain": [
       "<Figure size 432x288 with 1 Axes>"
      ]
     },
     "metadata": {
      "needs_background": "light"
     },
     "output_type": "display_data"
    }
   ],
   "source": [
    "plt.plot(range(1, len(mae_history) + 1), mae_history)\n",
    "plt.xlabel('Epochs')\n",
    "plt.ylabel('Validation MAE')\n",
    "plt.show()"
   ]
  },
  {
   "cell_type": "markdown",
   "metadata": {},
   "source": [
    "## model evaluation"
   ]
  },
  {
   "cell_type": "code",
   "execution_count": 10,
   "metadata": {},
   "outputs": [],
   "source": [
    "def score_per_type(x):\n",
    "    return np.log(np.mean(np.abs(x['pred_coupling_constant'].values - x['scalar_coupling_constant'].values)))\n",
    "\n",
    "def evaluation_score(results_df):\n",
    "    results = results_df[['scalar_coupling_constant','pred_coupling_constant','type']].groupby(\"type\")\n",
    "    return np.mean(results.apply(score_per_type))"
   ]
  },
  {
   "cell_type": "code",
   "execution_count": 11,
   "metadata": {},
   "outputs": [
    {
     "name": "stderr",
     "output_type": "stream",
     "text": [
      "/home/cesare/anaconda3/lib/python3.7/site-packages/ipykernel_launcher.py:1: SettingWithCopyWarning: \n",
      "A value is trying to be set on a copy of a slice from a DataFrame.\n",
      "Try using .loc[row_indexer,col_indexer] = value instead\n",
      "\n",
      "See the caveats in the documentation: http://pandas.pydata.org/pandas-docs/stable/indexing.html#indexing-view-versus-copy\n",
      "  \"\"\"Entry point for launching an IPython kernel.\n",
      "/home/cesare/anaconda3/lib/python3.7/site-packages/ipykernel_launcher.py:2: SettingWithCopyWarning: \n",
      "A value is trying to be set on a copy of a slice from a DataFrame.\n",
      "Try using .loc[row_indexer,col_indexer] = value instead\n",
      "\n",
      "See the caveats in the documentation: http://pandas.pydata.org/pandas-docs/stable/indexing.html#indexing-view-versus-copy\n",
      "  \n"
     ]
    },
    {
     "data": {
      "text/plain": [
       "0.9151155033065926"
      ]
     },
     "execution_count": 11,
     "metadata": {},
     "output_type": "execute_result"
    }
   ],
   "source": [
    "val_X['pred_coupling_constant'] = model.predict(val_X)\n",
    "val_X['scalar_coupling_constant'] = val_y\n",
    "evaluation_score(val_X)"
   ]
  },
  {
   "cell_type": "markdown",
   "metadata": {},
   "source": [
    "## Final result check"
   ]
  },
  {
   "cell_type": "code",
   "execution_count": 12,
   "metadata": {},
   "outputs": [],
   "source": [
    "test_df = pd.read_csv(\"../data/test_exp.csv\")\n",
    "test_df['id'] = test_df['id'].astype(int)\n",
    "X_df = test_df.drop(['id',\"molecule_name\",'atom_index_0','atom_index_1'],axis=1)\n",
    "label_func()\n",
    "test_df[\"scalar_coupling_constant\"] = model.predict(X_df)"
   ]
  },
  {
   "cell_type": "code",
   "execution_count": 13,
   "metadata": {},
   "outputs": [],
   "source": [
    "test_df[[\"id\",\"scalar_coupling_constant\"]].to_csv(\"../data/submission2.csv\",index=False)"
   ]
  }
 ],
 "metadata": {
  "kernelspec": {
   "display_name": "Python 3",
   "language": "python",
   "name": "python3"
  },
  "language_info": {
   "codemirror_mode": {
    "name": "ipython",
    "version": 3
   },
   "file_extension": ".py",
   "mimetype": "text/x-python",
   "name": "python",
   "nbconvert_exporter": "python",
   "pygments_lexer": "ipython3",
   "version": "3.7.3"
  }
 },
 "nbformat": 4,
 "nbformat_minor": 2
}
